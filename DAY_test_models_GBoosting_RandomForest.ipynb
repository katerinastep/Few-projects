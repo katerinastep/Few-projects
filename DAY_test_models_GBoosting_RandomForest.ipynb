{
 "cells": [
  {
   "cell_type": "code",
   "execution_count": 1,
   "metadata": {},
   "outputs": [],
   "source": [
    "import pymssql\n",
    "import pandas as pd\n",
    "import numpy as np\n",
    "import pickle\n",
    "from matplotlib import pyplot as plt\n",
    "import datetime as dt\n",
    "import warnings\n",
    "import dateutil.relativedelta\n",
    "from sklearn.model_selection import train_test_split as train\n",
    "from mlxtend.evaluate import lift_score\n",
    "from sklearn.metrics import make_scorer, roc_curve, auc, roc_auc_score\n",
    "from sklearn.model_selection import KFold, GridSearchCV\n",
    "from sklearn.ensemble import RandomForestClassifier\n",
    "from sklearn.ensemble import GradientBoostingClassifier\n",
    "import lightgbm as lgbm \n",
    "from sklearn import ensemble\n",
    "import uncertainties\n",
    "import random\n",
    "from random import randint\n",
    "import seaborn as sns\n",
    "from uncertainties import ufloat\n",
    "from sklearn.metrics import precision_recall_curve, classification_report\n",
    "from dateutil.relativedelta import relativedelta\n",
    "warnings.filterwarnings('ignore')\n",
    "\n",
    "pd.options.display.max_columns = 500\n",
    "pd.options.display.max_rows = 500"
   ]
  },
  {
   "cell_type": "markdown",
   "metadata": {},
   "source": [
    "# Данные"
   ]
  },
  {
   "cell_type": "code",
   "execution_count": 2,
   "metadata": {},
   "outputs": [],
   "source": [
    "df = pd.read_hdf('/mnt/cda/week_churn_kat_1802.hdf', \"df\")"
   ]
  },
  {
   "cell_type": "code",
   "execution_count": 3,
   "metadata": {},
   "outputs": [
    {
     "name": "stdout",
     "output_type": "stream",
     "text": [
      "Кол-во уникальных клиентов 2027802\n",
      "\n",
      "Кол-во дат за весь период 61\n",
      "\n",
      "Первая дата 2018-06-03 00:00:00\n",
      "\n",
      "Последняя дата 2019-07-28 00:00:00\n"
     ]
    }
   ],
   "source": [
    "print (\"Кол-во уникальных клиентов\", df['mems_id'].nunique())\n",
    "print ()\n",
    "print (\"Кол-во дат за весь период\", df['Datum'].nunique())\n",
    "print ()\n",
    "print (\"Первая дата\", df['Datum'].min())\n",
    "print ()\n",
    "print (\"Последняя дата\", df['Datum'].max())"
   ]
  },
  {
   "cell_type": "markdown",
   "metadata": {},
   "source": [
    "### train test for GS"
   ]
  },
  {
   "cell_type": "code",
   "execution_count": 4,
   "metadata": {},
   "outputs": [],
   "source": [
    "train_cv = df[(df['Fold_1'] == 'train') | (df['Fold_2'] == 'train') |\\\n",
    "              (df['Fold_1'] == 'test') | (df['Fold_2'] == 'test')|\\\n",
    "             (df['Fold_3'] == 'train') | (df['Fold_3'] == 'test')].sample(1000000).reset_index()"
   ]
  },
  {
   "cell_type": "code",
   "execution_count": 5,
   "metadata": {},
   "outputs": [],
   "source": [
    "train_ind_1 = train_cv[train_cv['Fold_1'] == 'train'].index.values.astype(int)\n",
    "test_ind_1 = train_cv[train_cv['Fold_1'] == 'test'].index.values.astype(int)\n",
    "train_ind_2 = train_cv[train_cv['Fold_2'] == 'train'].index.values.astype(int)\n",
    "test_ind_2 = train_cv[train_cv['Fold_2'] == 'test'].index.values.astype(int)\n",
    "train_ind_3 = train_cv[train_cv['Fold_3'] == 'train'].index.values.astype(int)\n",
    "test_ind_3 = train_cv[train_cv['Fold_3'] == 'test'].index.values.astype(int)"
   ]
  },
  {
   "cell_type": "code",
   "execution_count": 7,
   "metadata": {},
   "outputs": [
    {
     "name": "stdout",
     "output_type": "stream",
     "text": [
      "Размер тестовой и убочающей выборки (1000000, 40) (1000000,)\n"
     ]
    }
   ],
   "source": [
    "y_train_cv = train_cv['Churn']\n",
    "X_train_cv = train_cv.drop(['index', 'Churn', 'mems_id', 'Datum', \n",
    "                              'Fold_1', 'Fold_2', 'Fold_3', 'Validation'],axis=1)\n",
    "\n",
    "print (\"Размер тестовой и убочающей выборки\", X_train_cv.shape, y_train_cv.shape)"
   ]
  },
  {
   "cell_type": "markdown",
   "metadata": {},
   "source": [
    "# Грид "
   ]
  },
  {
   "cell_type": "code",
   "execution_count": 8,
   "metadata": {},
   "outputs": [],
   "source": [
    "def generator(train_cv):\n",
    "    i = 1\n",
    "    while i <= 3:\n",
    "        train_ind_1 = train_cv[train_cv['Fold_'+str(i)] == 'train'].index.values.astype(int)\n",
    "        test_ind_1 = train_cv[train_cv['Fold_'+str(i)] == 'test'].index.values.astype(int)\n",
    "        yield train_ind_1, test_ind_1\n",
    "        i += 1"
   ]
  },
  {
   "cell_type": "code",
   "execution_count": 9,
   "metadata": {},
   "outputs": [
    {
     "data": {
      "text/plain": [
       "dict_keys(['boosting_type', 'class_weight', 'colsample_bytree', 'importance_type', 'learning_rate', 'max_depth', 'min_child_samples', 'min_child_weight', 'min_split_gain', 'n_estimators', 'n_jobs', 'num_leaves', 'objective', 'random_state', 'reg_alpha', 'reg_lambda', 'silent', 'subsample', 'subsample_for_bin', 'subsample_freq'])"
      ]
     },
     "execution_count": 9,
     "metadata": {},
     "output_type": "execute_result"
    }
   ],
   "source": [
    "mdl = lgbm.LGBMClassifier(silent=True)\n",
    "mdl.get_params().keys()"
   ]
  },
  {
   "cell_type": "code",
   "execution_count": 10,
   "metadata": {},
   "outputs": [],
   "source": [
    "gridParams = {\n",
    "    'learning_rate': np.random.uniform(0.05, 1, 5),\n",
    "    'n_estimators': np.random.randint(100, 900, 4),\n",
    "    'num_leaves': np.random.randint(2, 7, 3)\n",
    "    'boosting_type' : ['gbdt'],\n",
    "    'objective' : ['binary'],\n",
    "    'random_state' : [501],\n",
    "    \"max_depth\": np.random.randint(2, 7, 3),\n",
    "    'subsample' : np.random.uniform(0.5, 1, 5),\n",
    "    'reg_alpha' : np.random.randint(3, 6, 3),\n",
    "    'reg_lambda' : np.random.uniform(0.05, 10, 10),\n",
    "    }"
   ]
  },
  {
   "cell_type": "code",
   "execution_count": 11,
   "metadata": {},
   "outputs": [
    {
     "name": "stdout",
     "output_type": "stream",
     "text": [
      "Fitting 3 folds for each of 1944 candidates, totalling 5832 fits\n"
     ]
    },
    {
     "name": "stderr",
     "output_type": "stream",
     "text": [
      "[Parallel(n_jobs=11)]: Using backend LokyBackend with 11 concurrent workers.\n",
      "[Parallel(n_jobs=11)]: Done  10 tasks      | elapsed:   49.1s\n",
      "[Parallel(n_jobs=11)]: Done 106 tasks      | elapsed:  6.4min\n",
      "[Parallel(n_jobs=11)]: Done 266 tasks      | elapsed: 15.9min\n",
      "[Parallel(n_jobs=11)]: Done 490 tasks      | elapsed: 29.1min\n",
      "[Parallel(n_jobs=11)]: Done 778 tasks      | elapsed: 49.1min\n",
      "[Parallel(n_jobs=11)]: Done 1130 tasks      | elapsed: 69.5min\n",
      "[Parallel(n_jobs=11)]: Done 1546 tasks      | elapsed: 96.7min\n",
      "[Parallel(n_jobs=11)]: Done 2026 tasks      | elapsed: 127.8min\n",
      "[Parallel(n_jobs=11)]: Done 2570 tasks      | elapsed: 165.1min\n",
      "[Parallel(n_jobs=11)]: Done 3178 tasks      | elapsed: 206.8min\n",
      "[Parallel(n_jobs=11)]: Done 3850 tasks      | elapsed: 255.0min\n",
      "[Parallel(n_jobs=11)]: Done 4586 tasks      | elapsed: 303.3min\n",
      "[Parallel(n_jobs=11)]: Done 5386 tasks      | elapsed: 354.3min\n",
      "[Parallel(n_jobs=11)]: Done 5832 out of 5832 | elapsed: 383.9min finished\n"
     ]
    }
   ],
   "source": [
    "grid_lgbm = RandomizedSearchCV(mdl, gridParams,\n",
    "                        verbose=3,\n",
    "                        cv = generator(train_cv),\n",
    "                         n_jobs=11, scoring='accuracy_score')\n",
    "\n",
    "grid_3 = grid_lgbm.fit(X_train_cv, y_train_cv)"
   ]
  },
  {
   "cell_type": "code",
   "execution_count": null,
   "metadata": {},
   "outputs": [],
   "source": [
    "print(\"Ошибка на обучении:\", grid_3.best_score_)\n",
    "print(\"Модель с лучшими параметрами:\", grid_3.best_params_)"
   ]
  },
  {
   "cell_type": "markdown",
   "metadata": {},
   "source": [
    "# light с крутыми параметрами"
   ]
  },
  {
   "cell_type": "code",
   "execution_count": 13,
   "metadata": {},
   "outputs": [],
   "source": [
    "df_test = df[df['Validation'] == 'test']\n",
    "\n",
    "\n",
    "y_test_3 = df_test['Churn']\n",
    "X_test_3 = df_test.drop(['Churn', 'mems_id', 'Datum', \n",
    "                              'Fold_1', 'Fold_2', 'Fold_3', 'Validation'], axis=1)\n",
    "\n",
    "df_train = df[df['Validation'] == 'train']\n",
    "\n",
    "y_train_3 = df_train['Churn']\n",
    "X_train_3 = df_train.drop(['Churn', 'mems_id', 'Datum', \n",
    "                              'Fold_1', 'Fold_2', 'Fold_3', 'Validation'], axis=1)"
   ]
  },
  {
   "cell_type": "code",
   "execution_count": 15,
   "metadata": {
    "collapsed": true
   },
   "outputs": [
    {
     "name": "stdout",
     "output_type": "stream",
     "text": [
      "Training until validation scores don't improve for 2000 rounds.\n",
      "[5]\ttraining's binary_logloss: 0.3255\n",
      "[10]\ttraining's binary_logloss: 0.317257\n",
      "[15]\ttraining's binary_logloss: 0.314961\n",
      "[20]\ttraining's binary_logloss: 0.313597\n",
      "[25]\ttraining's binary_logloss: 0.312376\n",
      "[30]\ttraining's binary_logloss: 0.31187\n",
      "[35]\ttraining's binary_logloss: 0.311506\n",
      "[40]\ttraining's binary_logloss: 0.310723\n",
      "[45]\ttraining's binary_logloss: 0.310416\n",
      "[50]\ttraining's binary_logloss: 0.310241\n",
      "[55]\ttraining's binary_logloss: 0.309961\n",
      "[60]\ttraining's binary_logloss: 0.309717\n",
      "[65]\ttraining's binary_logloss: 0.309586\n",
      "[70]\ttraining's binary_logloss: 0.309238\n",
      "[75]\ttraining's binary_logloss: 0.309102\n",
      "[80]\ttraining's binary_logloss: 0.308991\n",
      "[85]\ttraining's binary_logloss: 0.308907\n",
      "[90]\ttraining's binary_logloss: 0.308851\n",
      "[95]\ttraining's binary_logloss: 0.308755\n",
      "[100]\ttraining's binary_logloss: 0.308649\n",
      "[105]\ttraining's binary_logloss: 0.308592\n",
      "[110]\ttraining's binary_logloss: 0.308539\n",
      "[115]\ttraining's binary_logloss: 0.308487\n",
      "[120]\ttraining's binary_logloss: 0.308424\n",
      "[125]\ttraining's binary_logloss: 0.308322\n",
      "[130]\ttraining's binary_logloss: 0.308181\n",
      "[135]\ttraining's binary_logloss: 0.308147\n",
      "[140]\ttraining's binary_logloss: 0.308108\n",
      "[145]\ttraining's binary_logloss: 0.308068\n",
      "[150]\ttraining's binary_logloss: 0.308031\n",
      "[155]\ttraining's binary_logloss: 0.307999\n",
      "[160]\ttraining's binary_logloss: 0.307971\n",
      "[165]\ttraining's binary_logloss: 0.307942\n",
      "[170]\ttraining's binary_logloss: 0.307907\n",
      "[175]\ttraining's binary_logloss: 0.307889\n",
      "[180]\ttraining's binary_logloss: 0.307865\n",
      "[185]\ttraining's binary_logloss: 0.307844\n",
      "[190]\ttraining's binary_logloss: 0.307793\n",
      "[195]\ttraining's binary_logloss: 0.307765\n",
      "[200]\ttraining's binary_logloss: 0.307737\n",
      "[205]\ttraining's binary_logloss: 0.307705\n",
      "[210]\ttraining's binary_logloss: 0.307681\n",
      "[215]\ttraining's binary_logloss: 0.307656\n",
      "[220]\ttraining's binary_logloss: 0.307624\n",
      "[225]\ttraining's binary_logloss: 0.307594\n",
      "[230]\ttraining's binary_logloss: 0.307567\n",
      "[235]\ttraining's binary_logloss: 0.307547\n",
      "[240]\ttraining's binary_logloss: 0.30753\n",
      "[245]\ttraining's binary_logloss: 0.307515\n",
      "[250]\ttraining's binary_logloss: 0.307495\n",
      "[255]\ttraining's binary_logloss: 0.307479\n",
      "[260]\ttraining's binary_logloss: 0.307462\n",
      "[265]\ttraining's binary_logloss: 0.307449\n",
      "[270]\ttraining's binary_logloss: 0.307438\n",
      "[275]\ttraining's binary_logloss: 0.307424\n",
      "[280]\ttraining's binary_logloss: 0.307404\n",
      "[285]\ttraining's binary_logloss: 0.307377\n",
      "[290]\ttraining's binary_logloss: 0.307333\n",
      "[295]\ttraining's binary_logloss: 0.307305\n",
      "[300]\ttraining's binary_logloss: 0.307287\n",
      "[305]\ttraining's binary_logloss: 0.307275\n",
      "[310]\ttraining's binary_logloss: 0.30726\n",
      "[315]\ttraining's binary_logloss: 0.307239\n",
      "[320]\ttraining's binary_logloss: 0.307226\n",
      "[325]\ttraining's binary_logloss: 0.307214\n",
      "[330]\ttraining's binary_logloss: 0.307199\n",
      "[335]\ttraining's binary_logloss: 0.307188\n",
      "[340]\ttraining's binary_logloss: 0.307176\n",
      "[345]\ttraining's binary_logloss: 0.307164\n",
      "[350]\ttraining's binary_logloss: 0.307149\n",
      "[355]\ttraining's binary_logloss: 0.307132\n",
      "[360]\ttraining's binary_logloss: 0.307119\n",
      "[365]\ttraining's binary_logloss: 0.307106\n",
      "[370]\ttraining's binary_logloss: 0.307099\n",
      "[375]\ttraining's binary_logloss: 0.307091\n",
      "[380]\ttraining's binary_logloss: 0.307082\n",
      "[385]\ttraining's binary_logloss: 0.307068\n",
      "[390]\ttraining's binary_logloss: 0.307049\n",
      "[395]\ttraining's binary_logloss: 0.307024\n",
      "[400]\ttraining's binary_logloss: 0.307009\n",
      "[405]\ttraining's binary_logloss: 0.30699\n",
      "[410]\ttraining's binary_logloss: 0.30698\n",
      "[415]\ttraining's binary_logloss: 0.30697\n",
      "[420]\ttraining's binary_logloss: 0.30696\n",
      "[425]\ttraining's binary_logloss: 0.306953\n",
      "[430]\ttraining's binary_logloss: 0.306944\n",
      "[435]\ttraining's binary_logloss: 0.306935\n",
      "[440]\ttraining's binary_logloss: 0.306928\n",
      "[445]\ttraining's binary_logloss: 0.306923\n",
      "[450]\ttraining's binary_logloss: 0.306918\n",
      "[455]\ttraining's binary_logloss: 0.306911\n",
      "[460]\ttraining's binary_logloss: 0.306901\n",
      "[465]\ttraining's binary_logloss: 0.306894\n",
      "[470]\ttraining's binary_logloss: 0.306888\n",
      "[475]\ttraining's binary_logloss: 0.306882\n",
      "[480]\ttraining's binary_logloss: 0.306873\n",
      "[485]\ttraining's binary_logloss: 0.306864\n",
      "[490]\ttraining's binary_logloss: 0.306849\n",
      "[495]\ttraining's binary_logloss: 0.306834\n",
      "[500]\ttraining's binary_logloss: 0.306827\n",
      "[505]\ttraining's binary_logloss: 0.306816\n",
      "[510]\ttraining's binary_logloss: 0.306801\n",
      "[515]\ttraining's binary_logloss: 0.306796\n",
      "[520]\ttraining's binary_logloss: 0.306791\n",
      "[525]\ttraining's binary_logloss: 0.306785\n",
      "[530]\ttraining's binary_logloss: 0.306777\n",
      "[535]\ttraining's binary_logloss: 0.306768\n",
      "[540]\ttraining's binary_logloss: 0.306761\n",
      "[545]\ttraining's binary_logloss: 0.306754\n",
      "[550]\ttraining's binary_logloss: 0.306746\n",
      "[555]\ttraining's binary_logloss: 0.306741\n",
      "[560]\ttraining's binary_logloss: 0.306735\n",
      "[565]\ttraining's binary_logloss: 0.306727\n",
      "[570]\ttraining's binary_logloss: 0.306712\n",
      "[575]\ttraining's binary_logloss: 0.306706\n",
      "[580]\ttraining's binary_logloss: 0.306699\n",
      "[585]\ttraining's binary_logloss: 0.306687\n",
      "[590]\ttraining's binary_logloss: 0.30668\n",
      "[595]\ttraining's binary_logloss: 0.306673\n",
      "[600]\ttraining's binary_logloss: 0.306667\n",
      "[605]\ttraining's binary_logloss: 0.306655\n",
      "[610]\ttraining's binary_logloss: 0.306648\n",
      "[615]\ttraining's binary_logloss: 0.306641\n",
      "[620]\ttraining's binary_logloss: 0.306637\n",
      "[625]\ttraining's binary_logloss: 0.306631\n",
      "[630]\ttraining's binary_logloss: 0.306624\n",
      "[635]\ttraining's binary_logloss: 0.306615\n",
      "[640]\ttraining's binary_logloss: 0.30661\n",
      "[645]\ttraining's binary_logloss: 0.306606\n",
      "[650]\ttraining's binary_logloss: 0.306601\n",
      "[655]\ttraining's binary_logloss: 0.306597\n",
      "[660]\ttraining's binary_logloss: 0.306586\n",
      "[665]\ttraining's binary_logloss: 0.30658\n",
      "[670]\ttraining's binary_logloss: 0.30657\n",
      "[675]\ttraining's binary_logloss: 0.306564\n",
      "[680]\ttraining's binary_logloss: 0.306545\n",
      "[685]\ttraining's binary_logloss: 0.306537\n",
      "[690]\ttraining's binary_logloss: 0.306524\n",
      "[695]\ttraining's binary_logloss: 0.306518\n",
      "[700]\ttraining's binary_logloss: 0.306512\n",
      "Did not meet early stopping. Best iteration is:\n",
      "[700]\ttraining's binary_logloss: 0.306512\n"
     ]
    },
    {
     "data": {
      "text/plain": [
       "LGBMClassifier(boosting_type='gbdt', class_weight=None, colsample_bytree=1.0,\n",
       "               importance_type='split', learning_rate=0.5, max_depth=3,\n",
       "               min_child_samples=20, min_child_weight=0.001, min_split_gain=0.0,\n",
       "               n_estimators=700, n_jobs=-1, num_leaves=6, objective='binary',\n",
       "               random_state=501, reg_alpha=3, reg_lambda=0.8, silent=True,\n",
       "               subsample=0.75, subsample_for_bin=200000, subsample_freq=0)"
      ]
     },
     "execution_count": 15,
     "metadata": {},
     "output_type": "execute_result"
    }
   ],
   "source": [
    "mdl_metric = lgbm.LGBMClassifier(**grid_3.best_params_)\n",
    "\n",
    "mdl_metric.fit(\n",
    "    X_train_3, y_train_3,\n",
    "    eval_set=[(X_test_3, y_test_3)],\n",
    "   eval_metric='accuracy_score',\n",
    "    early_stopping_rounds=500,\n",
    "    verbose=5\n",
    ")"
   ]
  },
  {
   "cell_type": "code",
   "execution_count": 17,
   "metadata": {},
   "outputs": [],
   "source": [
    "def negative_percent(y_pred, y_true):\n",
    "    residual = (2*y_true - y_pred)\n",
    "    true=np.sum(np.where(residual==1, 1, 0))/len(y_true)\n",
    "    false=np.sum(np.where(residual==-1, 1, 0))/len(y_true)\n",
    "    falsep=np.sum(np.where(residual==2, 1, 0))/len(y_true)\n",
    "    return 'true_neg:', true, 'false_neg:', false, 'false_p:', falsep, 'true_p:', 1-false-true-falsep"
   ]
  },
  {
   "cell_type": "code",
   "execution_count": 18,
   "metadata": {},
   "outputs": [
    {
     "data": {
      "text/plain": [
       "('true_neg:',\n",
       " 0.7661433027404452,\n",
       " 'false_neg:',\n",
       " 0.09946184966716548,\n",
       " 'false_p:',\n",
       " 0.03586987587841082,\n",
       " 'true_p:',\n",
       " 0.09852497171397848)"
      ]
     },
     "execution_count": 18,
     "metadata": {},
     "output_type": "execute_result"
    }
   ],
   "source": [
    "negative_percent(mdl_metric.predict(X_test_3), y_test_3)"
   ]
  },
  {
   "cell_type": "code",
   "execution_count": 19,
   "metadata": {},
   "outputs": [
    {
     "name": "stdout",
     "output_type": "stream",
     "text": [
      "Accuracy score (training): 0.839\n",
      "Accuracy score (validation): 0.865\n"
     ]
    }
   ],
   "source": [
    "print(\"Accuracy score (training): {0:.3f}\".format(mdl_metric.score(X_train_3, y_train_3)))\n",
    "print(\"Accuracy score (validation): {0:.3f}\".format(mdl_metric.score(X_test_3, y_test_3)))"
   ]
  },
  {
   "cell_type": "code",
   "execution_count": 20,
   "metadata": {},
   "outputs": [],
   "source": [
    "\n",
    "with open('Churn_lift2702.pkl', 'wb') as fid:\n",
    "    pickle.dump(mdl_metric, fid)"
   ]
  },
  {
   "cell_type": "code",
   "execution_count": 33,
   "metadata": {},
   "outputs": [
    {
     "data": {
      "image/png": "[encoded data removed]",
      "text/plain": [
       "<Figure size 1440x720 with 1 Axes>"
      ]
     },
     "metadata": {
      "needs_background": "light"
     },
     "output_type": "display_data"
    },
    {
     "data": {
      "text/plain": [
       "<Figure size 432x288 with 0 Axes>"
      ]
     },
     "metadata": {},
     "output_type": "display_data"
    }
   ],
   "source": [
    "feature_imp = pd.DataFrame(sorted(zip(gbm_1.feature_importances_,X_train_1.columns)), columns=['Value','Feature'])\n",
    "\n",
    "plt.figure(figsize=(20, 10))\n",
    "sns.barplot(x=\"Value\", y=\"Feature\", data=feature_imp.sort_values(by=\"Value\", ascending=False))\n",
    "plt.title('LightGBM Features (avg over folds)')\n",
    "plt.tight_layout()\n",
    "plt.show()\n",
    "plt.savefig('lgbm_importances-01.png')"
   ]
  },
  {
   "cell_type": "code",
   "execution_count": null,
   "metadata": {},
   "outputs": [],
   "source": []
  },
  {
   "cell_type": "code",
   "execution_count": null,
   "metadata": {},
   "outputs": [],
   "source": []
  },
  {
   "cell_type": "code",
   "execution_count": null,
   "metadata": {},
   "outputs": [],
   "source": []
  },
  {
   "cell_type": "code",
   "execution_count": null,
   "metadata": {},
   "outputs": [],
   "source": []
  },
  {
   "cell_type": "code",
   "execution_count": null,
   "metadata": {},
   "outputs": [],
   "source": []
  },
  {
   "cell_type": "code",
   "execution_count": null,
   "metadata": {},
   "outputs": [],
   "source": []
  },
  {
   "cell_type": "code",
   "execution_count": null,
   "metadata": {},
   "outputs": [],
   "source": []
  }
 ],
 "metadata": {
  "kernelspec": {
   "display_name": "Python 3",
   "language": "python",
   "name": "python3"
  },
  "language_info": {
   "codemirror_mode": {
    "name": "ipython",
    "version": 3
   },
   "file_extension": ".py",
   "mimetype": "text/x-python",
   "name": "python",
   "nbconvert_exporter": "python",
   "pygments_lexer": "ipython3",
   "version": "3.7.3"
  }
 },
 "nbformat": 4,
 "nbformat_minor": 2
}
