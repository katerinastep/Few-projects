{
 "cells": [
  {
   "cell_type": "code",
   "execution_count": 1,
   "metadata": {},
   "outputs": [],
   "source": [
    "import csv\n",
    "import json\n",
    "import pprint\n",
    "import urllib.request\n",
    "import gzip\n",
    "import io\n",
    "import urllib\n",
    "import pandas as pd\n",
    "import requests\n",
    "import numpy as np"
   ]
  },
  {
   "cell_type": "code",
   "execution_count": 102,
   "metadata": {},
   "outputs": [],
   "source": [
    "\n",
    "\n",
    "path1 = 'https:'\n",
    "response = requests.get(path1)\n",
    "f = gzip.open(io.BytesIO(response.content), mode=\"rb\") \n",
    "csvreader = csv.reader(codecs.iterdecode(f, 'utf-8'), delimiter=',', quotechar='\"')\n",
    "def generate_row(row):\n",
    "    #for row in csvreader:\n",
    "    result = pd.DataFrame()\n",
    "    data = json.loads(row[3])\n",
    "    user = data.get(\"user\")\n",
    "    items = data.get(\"items\", [])\n",
    "    for item in items:\n",
    "        tmp = dict()\n",
    "        tmp[\"user\"] = user\n",
    "        tmp[\"sum\"] = item.get(\"sum\")\n",
    "        tmp[\"name\"] = item.get(\"name\")\n",
    "        tmp[\"price\"] = item.get(\"price\")\n",
    "        result = result.append(pd.DataFrame.from_dict(tmp, orient='index').T, ignore_index=True)\n",
    "    return result\n"
   ]
  },
  {
   "cell_type": "code",
   "execution_count": 105,
   "metadata": {},
   "outputs": [
    {
     "name": "stdout",
     "output_type": "stream",
     "text": [
      "--- 7378.906464338303 seconds ---\n"
     ]
    }
   ],
   "source": [
    "import time\n",
    "start_time=time.time()\n",
    "full=pd.DataFrame()\n",
    "from joblib import Parallel, delayed\n",
    "full=Parallel(n_jobs=5)(delayed(generate_row)(row) for row in csvreader)\n",
    "print(\"--- %s seconds ---\" % (time.time() - start_time)) "
   ]
  },
  {
   "cell_type": "code",
   "execution_count": 141,
   "metadata": {},
   "outputs": [],
   "source": [
    "result = pd.concat(full).reset_index()"
   ]
  },
  {
   "cell_type": "code",
   "execution_count": 143,
   "metadata": {},
   "outputs": [],
   "source": [
    "result = result.drop('index', axis=1)"
   ]
  },
  {
   "cell_type": "code",
   "execution_count": 145,
   "metadata": {},
   "outputs": [],
   "source": [
    "result.to_csv('names_product.csv')"
   ]
  },
  {
   "cell_type": "code",
   "execution_count": 2,
   "metadata": {},
   "outputs": [],
   "source": [
    "result = pd.read_csv('names_product.csv').drop('Unnamed: 0', axis=1)"
   ]
  },
  {
   "cell_type": "code",
   "execution_count": 3,
   "metadata": {},
   "outputs": [],
   "source": [
    "result = result[result['name'].notna()]"
   ]
  },
  {
   "cell_type": "code",
   "execution_count": 7,
   "metadata": {},
   "outputs": [
    {
     "name": "stdout",
     "output_type": "stream",
     "text": [
      "<class 'pandas.core.frame.DataFrame'>\n",
      "Int64Index: 8012834 entries, 0 to 8013805\n",
      "Data columns (total 4 columns):\n",
      " #   Column  Dtype  \n",
      "---  ------  -----  \n",
      " 0   user    object \n",
      " 1   sum     float64\n",
      " 2   name    object \n",
      " 3   price   float64\n",
      "dtypes: float64(2), object(2)\n",
      "memory usage: 305.7+ MB\n"
     ]
    }
   ],
   "source": [
    "result.info()"
   ]
  },
  {
   "cell_type": "code",
   "execution_count": 8,
   "metadata": {},
   "outputs": [
    {
     "data": {
      "text/plain": [
       "1394015"
      ]
     },
     "execution_count": 8,
     "metadata": {},
     "output_type": "execute_result"
    }
   ],
   "source": [
    "result['name'].nunique()"
   ]
  },
  {
   "cell_type": "code",
   "execution_count": 156,
   "metadata": {},
   "outputs": [],
   "source": [
    "result['len'] = result['name'].apply(len)"
   ]
  },
  {
   "cell_type": "code",
   "execution_count": 162,
   "metadata": {},
   "outputs": [
    {
     "name": "stdout",
     "output_type": "stream",
     "text": [
      "312 34.39758289073281 50.0\n"
     ]
    }
   ],
   "source": [
    "print(result['len'].max(), result['len'].mean(), result['len'].quantile(0.95))"
   ]
  },
  {
   "cell_type": "markdown",
   "metadata": {},
   "source": [
    "## Build word 2 vec model for names"
   ]
  },
  {
   "cell_type": "code",
   "execution_count": 25,
   "metadata": {},
   "outputs": [],
   "source": [
    "result['name_list']=result['name'].apply(preprocess)"
   ]
  },
  {
   "cell_type": "code",
   "execution_count": 26,
   "metadata": {},
   "outputs": [
    {
     "data": {
      "text/html": [
       "<div>\n",
       "<style scoped>\n",
       "    .dataframe tbody tr th:only-of-type {\n",
       "        vertical-align: middle;\n",
       "    }\n",
       "\n",
       "    .dataframe tbody tr th {\n",
       "        vertical-align: top;\n",
       "    }\n",
       "\n",
       "    .dataframe thead th {\n",
       "        text-align: right;\n",
       "    }\n",
       "</style>\n",
       "<table border=\"1\" class=\"dataframe\">\n",
       "  <thead>\n",
       "    <tr style=\"text-align: right;\">\n",
       "      <th></th>\n",
       "      <th>user</th>\n",
       "      <th>sum</th>\n",
       "      <th>name</th>\n",
       "      <th>price</th>\n",
       "      <th>name_list</th>\n",
       "    </tr>\n",
       "  </thead>\n",
       "  <tbody>\n",
       "    <tr>\n",
       "      <th>0</th>\n",
       "      <td>NaN</td>\n",
       "      <td>3856.0</td>\n",
       "      <td>Слива 1кг</td>\n",
       "      <td>9990.0</td>\n",
       "      <td>[слива, 1кг]</td>\n",
       "    </tr>\n",
       "    <tr>\n",
       "      <th>1</th>\n",
       "      <td>NaN</td>\n",
       "      <td>3990.0</td>\n",
       "      <td>Майонез Махеев Оливковый д/п 1/400мл</td>\n",
       "      <td>3990.0</td>\n",
       "      <td>[майонез, махеев, оливковый, д, п, 1, 400мл]</td>\n",
       "    </tr>\n",
       "    <tr>\n",
       "      <th>2</th>\n",
       "      <td>NaN</td>\n",
       "      <td>15251.0</td>\n",
       "      <td>Палочки крабовые Эконом зам вес 1кг</td>\n",
       "      <td>18690.0</td>\n",
       "      <td>[палочки, крабовые, эконом, зам, вес, 1кг]</td>\n",
       "    </tr>\n",
       "    <tr>\n",
       "      <th>3</th>\n",
       "      <td>NaN</td>\n",
       "      <td>4290.0</td>\n",
       "      <td>Сметана Молком 15% м.д.ж. пл/ст 1/20</td>\n",
       "      <td>4290.0</td>\n",
       "      <td>[сметана, молком, 15%, м.д.ж., пл, ст, 1, 20]</td>\n",
       "    </tr>\n",
       "    <tr>\n",
       "      <th>4</th>\n",
       "      <td>NaN</td>\n",
       "      <td>3649.0</td>\n",
       "      <td>Арахис соленый 1кг</td>\n",
       "      <td>23390.0</td>\n",
       "      <td>[арахис, соленый, 1кг]</td>\n",
       "    </tr>\n",
       "  </tbody>\n",
       "</table>\n",
       "</div>"
      ],
      "text/plain": [
       "  user      sum                                  name    price  \\\n",
       "0  NaN   3856.0                             Слива 1кг   9990.0   \n",
       "1  NaN   3990.0  Майонез Махеев Оливковый д/п 1/400мл   3990.0   \n",
       "2  NaN  15251.0   Палочки крабовые Эконом зам вес 1кг  18690.0   \n",
       "3  NaN   4290.0  Сметана Молком 15% м.д.ж. пл/ст 1/20   4290.0   \n",
       "4  NaN   3649.0                    Арахис соленый 1кг  23390.0   \n",
       "\n",
       "                                       name_list  \n",
       "0                                   [слива, 1кг]  \n",
       "1   [майонез, махеев, оливковый, д, п, 1, 400мл]  \n",
       "2     [палочки, крабовые, эконом, зам, вес, 1кг]  \n",
       "3  [сметана, молком, 15%, м.д.ж., пл, ст, 1, 20]  \n",
       "4                         [арахис, соленый, 1кг]  "
      ]
     },
     "execution_count": 26,
     "metadata": {},
     "output_type": "execute_result"
    }
   ],
   "source": [
    "result.head()"
   ]
  },
  {
   "cell_type": "code",
   "execution_count": 9,
   "metadata": {},
   "outputs": [
    {
     "name": "stdout",
     "output_type": "stream",
     "text": [
      "--- 192.3453140258789 seconds ---\n"
     ]
    }
   ],
   "source": [
    "import time\n",
    "start_time=time.time()\n",
    "from joblib import Parallel, delayed\n",
    "full=Parallel(n_jobs=5)(delayed(preprocess)(name) for name in (result['name']))\n",
    "print(\"--- %s seconds ---\" % (time.time() - start_time)) "
   ]
  },
  {
   "cell_type": "code",
   "execution_count": 10,
   "metadata": {},
   "outputs": [
    {
     "data": {
      "text/plain": [
       "[['слива', '1кг'],\n",
       " ['майонез', 'махеев', 'оливковый', 'д', 'п', '1', '400мл'],\n",
       " ['палочки', 'крабовые', 'эконом', 'зам', 'вес', '1кг'],\n",
       " ['сметана', 'молком', '15%', 'м.д.ж.', 'пл', 'ст', '1', '20'],\n",
       " ['арахис', 'соленый', '1кг'],\n",
       " ['рулет', 'мексиканский', 'в', 'к', '1кг', 'мяснмаст'],\n",
       " ['приправа', 'кладовая', 'вкуса', 'кунжут', '1', '10г'],\n",
       " ['нектарины', '1кг'],\n",
       " ['паста', 'крем-фиш', 'треска', 'пл', 'ст', '1', '150гр'],\n",
       " ['*3147882', 'яйцо', 'kind.sur.м.шок', 'игр.20г'],\n",
       " ['*3147882', 'яйцо', 'kind.sur.м.шок', 'игр.20г'],\n",
       " ['53715', 'fer.пир.киндер', 'макси', 'кинг', '35г'],\n",
       " ['*3427052', 'свитлог.сырок', 'тв.гл.ван.26%50г'],\n",
       " ['4069735', 'свитл.сырок', 'з.ирис.тв.кар.гл50г'],\n",
       " ['*53713', 'fer.пир.киндер', 'пингви', '30г'],\n",
       " ['147805', 'трусы', 'женские', 'cle', 'b650', '44,', 'черный'],\n",
       " ['батон', 'летний', 'в', 'с', '0,35кг', 'не', 'упакхл'],\n",
       " ['chipicao', 'круассан', 'крем', 'какао', '60г', 'п'],\n",
       " ['*3958355', 'nesc.кофе', 'gold', 'раст.доб.мол220г'],\n",
       " ['*3970786', 'soff.бум.prem.nat.туал.3сл.8рул']]"
      ]
     },
     "execution_count": 10,
     "metadata": {},
     "output_type": "execute_result"
    }
   ],
   "source": [
    "full[:20]"
   ]
  },
  {
   "cell_type": "code",
   "execution_count": 11,
   "metadata": {},
   "outputs": [],
   "source": [
    "import warnings\n",
    "warnings.filterwarnings(\"ignore\")\n",
    "from gensim.corpora import WikiCorpus\n",
    "from gensim.models import Word2Vec\n",
    "from gensim.models.word2vec import LineSentence"
   ]
  },
  {
   "cell_type": "code",
   "execution_count": 12,
   "metadata": {},
   "outputs": [
    {
     "name": "stdout",
     "output_type": "stream",
     "text": [
      "--- 844.3444752693176 seconds ---\n"
     ]
    }
   ],
   "source": [
    "import time\n",
    "start_time=time.time()\n",
    "model_cbow = Word2Vec(full, size=500, window=30, min_count=1,workers=5, negative=3)\n",
    "print(\"--- %s seconds ---\" % (time.time() - start_time)) "
   ]
  },
  {
   "cell_type": "code",
   "execution_count": 21,
   "metadata": {},
   "outputs": [],
   "source": [
    "import pickle\n",
    "with open('model_names_match.pkl', 'wb') as fid:\n",
    "    pickle.dump(model_cbow, fid)"
   ]
  },
  {
   "cell_type": "code",
   "execution_count": 22,
   "metadata": {},
   "outputs": [
    {
     "data": {
      "text/plain": [
       "[('провансаль', 0.607303261756897),\n",
       " ('м-з', 0.6053080558776855),\n",
       " ('май-з', 0.5910055041313171),\n",
       " ('67%', 0.5837064981460571),\n",
       " ('махеевъ', 0.5698209404945374),\n",
       " ('майонезный', 0.567755937576294),\n",
       " ('5:3408630', 0.5646836161613464),\n",
       " ('1:3419671', 0.5612503886222839),\n",
       " ('13:3419671', 0.5592818260192871),\n",
       " ('моск.прованс.домашн.55%', 0.5567857623100281)]"
      ]
     },
     "execution_count": 22,
     "metadata": {},
     "output_type": "execute_result"
    }
   ],
   "source": [
    "model_cbow.most_similar(['майонез', 'махеев', 'оливковый', 'д', 'п', '1', '400мл'])"
   ]
  },
  {
   "cell_type": "code",
   "execution_count": 19,
   "metadata": {
    "collapsed": true
   },
   "outputs": [
    {
     "data": {
      "text/plain": [
       "array([-9.78727877e-01, -2.84746885e-02,  5.53657055e-01,  3.21929550e+00,\n",
       "        2.06785131e+00,  2.19968462e+00,  2.74402678e-01,  1.71093392e+00,\n",
       "        1.06422627e+00,  2.19935894e-01, -2.10816908e+00,  2.73985815e+00,\n",
       "        2.40936899e+00, -2.21423244e+00, -1.00761414e+00, -1.70314384e+00,\n",
       "        2.49379158e+00,  1.18441868e+00, -7.36273527e-01,  2.18221450e+00,\n",
       "        1.10770333e+00, -1.23036671e+00, -4.57368076e-01, -7.75210187e-02,\n",
       "       -3.29710960e-01,  2.31282687e+00, -1.27458930e+00, -8.32162559e-01,\n",
       "        1.58426657e-01,  1.30920005e+00, -5.24857640e-01, -1.47250795e+00,\n",
       "       -1.60249925e+00,  1.95003593e+00, -2.02969000e-01, -1.21950805e-01,\n",
       "        6.42673969e-02, -1.63989806e+00,  1.45455289e+00, -1.52848649e+00,\n",
       "       -1.27260268e+00,  1.52751207e+00,  1.56966597e-01,  1.38594687e+00,\n",
       "        4.73498523e-01, -1.51132345e+00, -7.56590903e-01,  2.31226516e+00,\n",
       "        2.74986291e+00,  3.12376022e-01,  5.44998288e-01, -1.25842321e+00,\n",
       "       -1.38310170e+00,  4.97348011e-01, -2.53051329e+00, -2.38797498e+00,\n",
       "       -1.38202786e+00, -2.49165177e+00,  5.35917342e-01, -1.91051912e+00,\n",
       "        8.06638002e-01, -1.22614205e+00,  3.32093865e-01, -9.98990238e-01,\n",
       "        7.17813969e-01,  2.02978516e+00,  4.11818600e+00,  2.77551949e-01,\n",
       "        3.29578018e+00, -2.87105203e+00,  2.21372485e-01, -5.73144853e-03,\n",
       "       -1.30076146e+00, -2.65505052e+00, -1.92863989e+00,  1.89755225e+00,\n",
       "       -3.68239343e-01,  9.28653300e-01,  7.22400725e-01, -2.35518599e+00,\n",
       "        8.50333273e-02, -8.71284127e-01,  1.85314488e+00,  7.88442433e-01,\n",
       "        4.73945975e-01, -6.89118981e-01, -2.42793131e+00, -1.96864438e+00,\n",
       "       -1.18754208e-01,  3.37589741e-01,  3.38870078e-01,  4.76573884e-01,\n",
       "       -2.07465839e+00,  1.97373033e-02, -1.51237214e+00, -1.16569847e-01,\n",
       "        7.48533309e-01,  2.52563739e+00,  5.64935505e-02,  1.09588456e+00,\n",
       "        4.50313091e-01,  4.15591180e-01, -9.85827088e-01,  1.19083929e+00,\n",
       "        6.48236871e-02, -5.03341407e-02,  1.55019891e+00,  7.96783715e-02,\n",
       "        1.97943306e+00, -1.01318479e-01,  8.81144702e-01, -1.54960418e+00,\n",
       "        8.68690133e-01, -7.56621540e-01, -8.16727877e-01, -4.43035960e-01,\n",
       "        5.04177690e-01,  1.34886539e+00,  1.43368745e+00, -7.95388818e-01,\n",
       "        5.41682124e-01,  1.23372221e+00,  7.53739476e-03, -4.04241145e-01,\n",
       "       -6.48684502e-02,  9.57720160e-01,  3.28918010e-01,  1.95830250e+00,\n",
       "       -8.07051420e-01,  2.12686968e+00,  1.52786577e+00, -1.63803291e+00,\n",
       "       -9.24266279e-01, -2.27579284e+00, -3.95533532e-01, -4.35864568e-01,\n",
       "        1.21706331e+00,  1.51878822e+00,  1.12250793e+00,  6.65532827e-01,\n",
       "        8.68321896e-01, -3.46511960e-01, -2.35227799e+00, -1.20543793e-01,\n",
       "       -6.07021809e-01,  2.57886744e+00, -7.35591531e-01,  2.16355181e+00,\n",
       "        8.44962895e-01,  4.04478312e-02, -1.30335182e-01,  1.05535400e+00,\n",
       "        6.66658878e-01,  4.16127682e-01,  4.38995987e-01, -9.90810990e-01,\n",
       "        2.28736877e+00, -1.24579227e+00,  3.03150654e+00,  4.42565262e-01,\n",
       "        2.33562565e+00,  2.38179028e-01,  8.89943063e-01,  6.98932171e-01,\n",
       "        6.94220126e-01,  1.09801412e+00,  1.33071554e+00,  2.04817748e+00,\n",
       "        1.60716921e-01,  1.17380226e+00,  6.89855218e-01,  7.19039321e-01,\n",
       "       -9.23159063e-01,  3.34314704e-01, -2.23868823e+00,  1.14907193e+00,\n",
       "        5.57517350e-01, -1.96698689e+00, -1.74795723e+00, -6.08515501e-01,\n",
       "       -2.57271910e+00, -2.24679422e+00,  1.58842289e+00, -2.88062811e+00,\n",
       "       -4.65592146e-01,  2.60477686e+00, -3.89233828e-01,  3.02763671e-01,\n",
       "        1.40172732e+00, -1.06878497e-01,  4.15204942e-01, -1.11657274e+00,\n",
       "       -4.27869886e-01,  6.37864888e-01,  2.84440374e+00, -2.73735452e+00,\n",
       "       -1.26325715e+00, -1.26498508e+00, -2.26694643e-01, -9.55989420e-01,\n",
       "       -8.23915839e-01, -2.49441430e-01, -1.81235671e-01, -1.75515699e+00,\n",
       "        5.49286753e-02,  1.45696890e+00, -1.93710065e+00,  2.00890851e+00,\n",
       "       -1.11606717e+00, -7.18215466e-01,  5.39991021e-01, -1.39961767e+00,\n",
       "        8.78424883e-01, -1.25796819e+00,  3.79328549e-01, -9.81130898e-02,\n",
       "        5.07969618e-01,  7.25807428e-01,  7.63927341e-01,  6.75826669e-01,\n",
       "        3.83724391e-01,  5.53610742e-01, -1.76224411e+00, -7.48397112e-02,\n",
       "        2.07550853e-01, -9.07117188e-01, -1.77063942e-02,  1.07970488e+00,\n",
       "       -1.49939084e+00, -1.95178819e+00,  2.29081297e+00,  5.97115278e-01,\n",
       "        2.46453285e-02,  3.19531232e-01, -1.26097155e+00,  1.52184069e+00,\n",
       "        2.69565344e+00,  7.08797812e-01,  9.63564754e-01,  2.42735654e-01,\n",
       "       -2.69196749e-01,  4.08888698e-01, -2.68255401e+00, -8.08876395e-01,\n",
       "       -3.83783847e-01,  1.18443334e+00, -2.42900774e-01, -1.74245492e-01,\n",
       "        4.42819548e+00,  1.61276126e+00,  7.15454459e-01, -7.85896063e-01,\n",
       "       -4.76848304e-01, -1.63867712e-01, -2.40936637e-01, -1.19139895e-01,\n",
       "       -2.68874377e-01, -2.90038633e+00, -2.90380508e-01, -4.39318657e-01,\n",
       "       -7.60037363e-01,  2.15601611e+00, -3.39543596e-02, -1.08268642e+00,\n",
       "       -1.07673430e+00,  6.04246140e-01,  3.22234344e+00, -4.51964760e+00,\n",
       "       -2.06421256e-01, -1.65579736e-01,  1.55979013e+00, -8.13620090e-02,\n",
       "        2.02869606e+00, -2.30508208e-01, -8.21470022e-02,  2.20833731e+00,\n",
       "        3.74993056e-01,  3.15642309e+00,  2.92285633e+00, -2.70579278e-01,\n",
       "        8.12843323e-01,  6.44036293e-01, -2.09812474e+00,  2.81459737e+00,\n",
       "       -4.51518536e-01, -2.78744817e-01, -7.07790494e-01,  3.51497555e+00,\n",
       "       -8.54851723e-01,  1.41188562e+00, -1.30594230e+00, -7.65063524e-01,\n",
       "        2.38321114e+00, -3.21148777e+00,  1.27315259e+00,  1.01348782e+00,\n",
       "       -1.45244586e+00,  7.28572667e-01, -1.32237208e+00, -1.22957182e+00,\n",
       "       -1.39100003e+00, -1.13295984e+00, -5.14423549e-02,  1.63356137e+00,\n",
       "        2.17446995e+00, -5.51237702e-01, -8.70887160e-01,  1.08667302e+00,\n",
       "       -1.79760709e-01, -6.27597928e-01,  1.15915251e+00, -1.51516509e+00,\n",
       "       -9.37433541e-02, -1.42759636e-01, -1.54508233e+00, -1.94646287e+00,\n",
       "        8.91450584e-01,  1.35103774e+00,  6.55268729e-01, -1.44842654e-01,\n",
       "        9.46009398e-01,  2.56247187e+00, -5.88109851e-01, -2.56397057e+00,\n",
       "        2.18931866e+00, -3.45125556e-01, -2.66550183e-02, -6.96410537e-01,\n",
       "       -1.11405420e+00, -2.31492138e+00, -3.58452320e-01, -3.93853307e-01,\n",
       "        1.62143171e-01,  2.45159602e+00,  1.43268812e+00,  2.17428803e-03,\n",
       "       -2.58630371e+00,  1.73806250e-01,  4.58501697e-01, -9.38126862e-01,\n",
       "        3.43824434e+00,  2.25848258e-01, -1.99247456e+00, -1.43233323e+00,\n",
       "       -1.10917187e+00,  1.63842940e+00,  8.19411039e-01,  1.38187778e+00,\n",
       "        7.58103132e-02,  7.77855873e-01, -2.34252214e+00, -3.46167862e-01,\n",
       "       -1.52908468e+00,  7.56836295e-01,  1.42341912e+00, -2.80254126e-01,\n",
       "        3.15382600e-01, -5.81751406e-01, -1.31598485e+00,  5.51793337e-01,\n",
       "        5.93937039e-01,  1.32204282e+00, -4.11218554e-01, -3.01032686e+00,\n",
       "        1.05967450e+00, -1.84819293e+00, -9.57085729e-01,  1.13114309e+00,\n",
       "       -1.18644667e+00,  2.22110653e+00,  1.84455907e+00, -4.41071391e-03,\n",
       "        2.11059880e+00, -1.49887109e+00,  1.36942101e+00, -2.10077333e+00,\n",
       "       -1.24067068e-02,  1.31223607e+00, -2.57208318e-01,  1.28193712e+00,\n",
       "       -1.45680165e+00,  1.15638673e-01,  1.85101151e-01,  3.82684052e-01,\n",
       "       -1.67601299e+00, -3.74614298e-01, -2.73949909e+00, -9.71462250e-01,\n",
       "        1.56559062e+00,  3.05738688e-01, -4.23404515e-01,  1.42883742e+00,\n",
       "        4.96296175e-02,  1.15805149e-01, -4.09513712e-01, -2.14818931e+00,\n",
       "        2.26368546e-01,  3.25325751e+00, -6.23096704e-01, -1.38103282e+00,\n",
       "       -2.88018405e-01, -2.23961830e-01, -1.61836314e+00,  1.21282578e+00,\n",
       "        1.89798832e+00,  3.47382158e-01,  2.84636331e+00, -7.93731034e-01,\n",
       "       -1.70616269e+00,  7.36311078e-03,  5.03271937e-01, -6.06302381e-01,\n",
       "        7.34597564e-01, -8.54125381e-01,  3.08198380e+00, -2.14981270e+00,\n",
       "       -1.15059805e+00, -2.12324810e+00, -3.02767992e+00,  1.71131873e+00,\n",
       "        1.53984427e-01, -1.95986581e+00, -1.08970678e+00,  1.35567498e+00,\n",
       "       -6.28103495e-01, -9.69835222e-01,  1.11821496e+00,  8.96196365e-01,\n",
       "        7.05123067e-01, -6.32231355e-01, -8.60574961e-01, -1.72479582e+00,\n",
       "        1.95346594e+00, -3.14376736e+00,  9.71459329e-01,  1.00885224e+00,\n",
       "        9.84923422e-01,  1.40238285e+00, -2.33692694e+00,  1.63649535e+00,\n",
       "       -2.36146832e+00, -9.30640697e-02, -3.02457333e-01,  3.78150821e-01,\n",
       "        5.01921535e-01,  1.83547270e+00, -2.66523814e+00,  1.32200646e+00,\n",
       "       -5.38537502e-01,  2.16087461e-01,  9.63630557e-01, -8.31093490e-02,\n",
       "        1.54077721e+00,  1.14294994e+00, -6.27222300e-01,  3.66379507e-02,\n",
       "        1.65461516e+00,  8.99547935e-01,  2.21031332e+00, -1.18071032e+00,\n",
       "       -1.23753941e+00,  2.13068575e-02, -1.80693626e-01, -3.20378041e+00,\n",
       "       -1.22933531e+00, -1.70525610e+00, -2.43666530e-01, -5.74472189e-01,\n",
       "        1.71115088e+00,  8.00133944e-02,  1.26274556e-01, -2.76482773e+00,\n",
       "       -2.14810658e+00,  3.12938333e+00,  1.38541460e+00, -1.02051210e+00,\n",
       "       -2.06681132e+00,  1.34500015e+00, -1.18355763e+00, -1.54373264e+00,\n",
       "       -1.73400128e+00, -6.60354495e-01, -2.50765753e+00, -1.68066072e+00,\n",
       "        2.35471368e+00, -1.46605372e-01, -2.11309195e-01,  1.95029497e+00,\n",
       "       -5.05166769e-01,  9.90199000e-02,  2.81739497e+00, -2.24384487e-01,\n",
       "       -2.96223879e+00,  1.38192558e+00,  9.49784636e-01,  1.02681115e-01,\n",
       "       -3.25345230e+00, -3.04756474e+00,  1.62518784e-01, -2.64052600e-01],\n",
       "      dtype=float32)"
      ]
     },
     "execution_count": 19,
     "metadata": {},
     "output_type": "execute_result"
    }
   ],
   "source": [
    "model_cbow['слива' ]+model_cbow['1кг']"
   ]
  },
  {
   "cell_type": "markdown",
   "metadata": {},
   "source": [
    "# Preprocess users"
   ]
  },
  {
   "cell_type": "code",
   "execution_count": 2,
   "metadata": {},
   "outputs": [],
   "source": [
    "result = pd.read_csv('names_product.csv').drop('Unnamed: 0', axis=1)\n",
    "result = result[result['name'].notna()]"
   ]
  },
  {
   "cell_type": "code",
   "execution_count": 3,
   "metadata": {},
   "outputs": [],
   "source": [
    "df_price=result[['user','name']].drop_duplicates(keep='first').reset_index().drop('index', axis=1)"
   ]
  },
  {
   "cell_type": "code",
   "execution_count": 4,
   "metadata": {},
   "outputs": [],
   "source": [
    "def preprocess_users(text):\n",
    "    \n",
    "    text = text.lower()\n",
    "    if 'дикси' in text:\n",
    "        result = 'дикси'\n",
    "    elif 'перекресток'in text:\n",
    "        result = 'перекресток'\n",
    "    elif 'тандер' in text:\n",
    "        result = 'тандер'\n",
    "    elif 'агроторг' in text:\n",
    "        result = 'агроторг'\n",
    "    elif 'виктория' in text:\n",
    "        result = 'виктория'\n",
    "    elif 'ип роздухов' in text:\n",
    "        result = 'ип'\n",
    "    else:\n",
    "        result = '-'\n",
    "    \n",
    "    return result"
   ]
  },
  {
   "cell_type": "code",
   "execution_count": 5,
   "metadata": {},
   "outputs": [],
   "source": [
    "df_price= df_price[df_price['user'].notna()]\n",
    "df_price['user'] =df_price['user'].apply(preprocess_users)\n"
   ]
  },
  {
   "cell_type": "code",
   "execution_count": 6,
   "metadata": {},
   "outputs": [],
   "source": [
    "df_price=df_price[df_price['user']!='-']"
   ]
  },
  {
   "cell_type": "code",
   "execution_count": 7,
   "metadata": {},
   "outputs": [],
   "source": [
    "from string import punctuation\n",
    "def preprocess(text):\n",
    "    text=text.replace(\"/\", '')\n",
    "    text=text.replace(\"(\", '')\n",
    "    text=text.replace(\")\", \"\")\n",
    "    text = text.lower()\n",
    "    all_reviews = text\n",
    "    all_words = text.split(' ')\n",
    "    all_words = [word for word in all_words if word!='']\n",
    "    return all_words"
   ]
  },
  {
   "cell_type": "code",
   "execution_count": 8,
   "metadata": {},
   "outputs": [],
   "source": [
    "df_work = df_price[['user', 'name']].drop_duplicates(keep='first').reset_index().drop('index', axis=1)"
   ]
  },
  {
   "cell_type": "code",
   "execution_count": 11,
   "metadata": {},
   "outputs": [],
   "source": [
    "df_work['name_list'] = df_work['name'].apply(preprocess)"
   ]
  },
  {
   "cell_type": "code",
   "execution_count": 12,
   "metadata": {},
   "outputs": [],
   "source": [
    "del(df_price)\n",
    "del(result)"
   ]
  },
  {
   "cell_type": "code",
   "execution_count": 17,
   "metadata": {},
   "outputs": [],
   "source": [
    "class matching:\n",
    "    \n",
    "    def __init__(self, path_wv, path_net):\n",
    "        \n",
    "        import pickle\n",
    "        \n",
    "        import torch\n",
    "        \n",
    "        import torch.nn.functional as F\n",
    "        \n",
    "        from torch import nn\n",
    "        \n",
    "        self.path_net = path_net\n",
    "        \n",
    "        self.path_wv = path_wv\n",
    "        \n",
    "        self.model = pickle.load(open(path_wv, \"rb\"))\n",
    "        \n",
    "        class MatchLSTM(nn.Module):\n",
    "    \n",
    "            def __init__(self, n_input, n_hidden, n_output):#,  n_linear,  drop_p = 0.7):\n",
    "                super().__init__()\n",
    "        \n",
    "                self.n_input = n_input\n",
    "            \n",
    "                self.n_output = n_output\n",
    "         \n",
    "                self.n_hidden = n_hidden\n",
    "            \n",
    "                self.lin1 = nn.Linear(n_input, n_hidden)\n",
    "            \n",
    "                self.relu = nn.ReLU()\n",
    "            \n",
    "                self.fc = nn.Linear(n_hidden, n_output)\n",
    "            \n",
    "                self.pool = nn.MaxPool1d( stride=4, dilation=3, kernel_size=20, padding=4)\n",
    "        \n",
    "        \n",
    "            def forward (self, input_x):\n",
    "                                             \n",
    "                x = self.lin1(input_x)\n",
    "            \n",
    "                x = self.relu(x)\n",
    "            \n",
    "                x = self.fc(x)\n",
    "            \n",
    "                x = self.pool(x)\n",
    "        \n",
    "                out_last = x[:, -1].view(-1, 1)             \n",
    "        \n",
    "                return out_last\n",
    "        \n",
    "        n_input = 4\n",
    "        \n",
    "        n_hidden = 100\n",
    "        \n",
    "        n_output = 50   \n",
    "\n",
    "        net = MatchLSTM(n_input, n_hidden, n_output)\n",
    "\n",
    "        net.load_state_dict(torch.load(path_net))\n",
    "    \n",
    "        self.net = net\n",
    "        \n",
    "        \n",
    "    \n",
    "    def vector_from_list(self, name_list, model = None):\n",
    "        \n",
    "        if model is None:\n",
    "            \n",
    "            model = self.model\n",
    "    \n",
    "        vector = np.sum([self.model.wv.__getitem__(elem) for elem in name_list], axis=0)\n",
    "        \n",
    "        return vector\n",
    "    \n",
    "    def cosine_metric(self, vector1, vector2):\n",
    "        \n",
    "        metric = np.abs(np.dot(vector1,vector2)/(np.sqrt(vector1.dot(vector1))*np.sqrt(vector2.dot(vector2))))\n",
    "    \n",
    "        return metric\n",
    "    \n",
    "    \n",
    "    def sort_data(self, df_part, user):\n",
    "        \n",
    "        import torch\n",
    "        \n",
    "        self.net.eval()\n",
    "        \n",
    "        df_part = df_part[df_part['user'] == user]\n",
    "        \n",
    "        df_part['m'] = (df_part['ml'] + df_part['mj'] + df_part['mv'] + df_part['mc'])*0.25\n",
    "\n",
    "        df_part = df_part.sort_values(by=['m', 'ml', 'mj', 'mv', 'mc'], ascending = False)\n",
    "        \n",
    "        X_input = torch.Tensor(df_part[['ml', 'mj', 'mv', 'mc']].values).unsqueeze(dim=1)\n",
    "        \n",
    "        predict = self.net(X_input).detach().numpy() \n",
    "        \n",
    "        df_part['mark'] = predict\n",
    "        \n",
    "        self.net.train()\n",
    "            \n",
    "        return df_part[:5].sort_values(by=[ 'mark'], ascending = False)\n",
    "    \n",
    "    def get_user(self, df_part, user):\n",
    "        \n",
    "        return df_part[df_part['user'] == user]\n",
    "    \n",
    "    \n",
    "    def init_matching(self, idx, data):\n",
    "        \n",
    "        from fuzzywuzzy import fuzz\n",
    "        \n",
    "        import textdistance\n",
    "        \n",
    "        name = data.loc[idx ,'name']\n",
    "        \n",
    "        \n",
    "        \n",
    "        vector = self.vector_from_list(data.loc[idx , 'name_list'])\n",
    "        \n",
    "        user = data.loc[idx , 'user']\n",
    "        \n",
    "        df_part = data[data['user'] != user ]\n",
    "        \n",
    "        df_part['ml'] = df_part['name'].apply(lambda x: fuzz.token_sort_ratio(x, name)/100).astype('float16')\n",
    "        \n",
    "        df_part = df_part[df_part['ml'] >= 0.4]\n",
    "        \n",
    "        df_part['mj'] = df_part['name'].apply(lambda x: textdistance.jaro.normalized_similarity(x, name)).astype('float16')\n",
    "        \n",
    "        df_part = df_part[df_part['mj'] >= 0.4]\n",
    "        \n",
    "        df_part['vector'] = df_part['name_list'].apply(self.vector_from_list)\n",
    "        \n",
    "        df_part['mv'] = df_part['vector'].apply(lambda x: self.cosine_metric(x, vector)).astype('float16')\n",
    "        \n",
    "        df_part = df_part[df_part['mv'] >= 0.2]\n",
    "        \n",
    "        df_part['mc'] = df_part['name'].apply(lambda x: textdistance.jaccard.normalized_similarity(x, name)).astype('float16')\n",
    "        \n",
    "        df_part = df_part[df_part['mc'] >= 0.2]\n",
    "        \n",
    "        df_match = pd.DataFrame()\n",
    "        \n",
    "        from joblib import Parallel, delayed\n",
    "        \n",
    "        match=Parallel(n_jobs=5)(delayed(self.sort_data)(df_part, elem) for elem in df_part['user'].unique())\n",
    "        \n",
    "        if len(match)!=0:\n",
    "            \n",
    "            df_match = pd.concat(match, ignore_index=True)\n",
    "        \n",
    "            df_match['name1'] = name\n",
    "        \n",
    "            df_match['user1'] = user\n",
    "        \n",
    "        else:\n",
    "            \n",
    "            df_match = pd.DataFrame()\n",
    "        \n",
    "        return df_match\n",
    "        \n",
    "        \n",
    "        \n",
    "        \n",
    "        \n",
    "        \n",
    "        \n",
    "        \n",
    "        \n",
    "        \n",
    "        \n",
    "        \n",
    "        \n",
    "        \n",
    "        "
   ]
  },
  {
   "cell_type": "code",
   "execution_count": 18,
   "metadata": {},
   "outputs": [],
   "source": [
    "M=matching('model_names_match.pkl', 'match_nn.pth')"
   ]
  },
  {
   "cell_type": "code",
   "execution_count": 19,
   "metadata": {},
   "outputs": [
    {
     "name": "stdout",
     "output_type": "stream",
     "text": [
      "29550.09718465805 sec\n"
     ]
    }
   ],
   "source": [
    "from joblib import Parallel, delayed\n",
    "\n",
    "import time\n",
    "\n",
    "start_time=time.time()\n",
    "        \n",
    "match = Parallel(n_jobs=5)(delayed(M.init_matching)(i, df_work) for i in range(15001, 16000, 1))\n",
    "\n",
    "print(time.time()-start_time, 'sec')"
   ]
  },
  {
   "cell_type": "code",
   "execution_count": 20,
   "metadata": {
    "scrolled": true
   },
   "outputs": [],
   "source": [
    "res = pd.concat(match, ignore_index=True)"
   ]
  },
  {
   "cell_type": "code",
   "execution_count": 21,
   "metadata": {},
   "outputs": [
    {
     "name": "stdout",
     "output_type": "stream",
     "text": [
      "<class 'pandas.core.frame.DataFrame'>\n",
      "RangeIndex: 20822 entries, 0 to 20821\n",
      "Data columns (total 12 columns):\n",
      " #   Column     Non-Null Count  Dtype  \n",
      "---  ------     --------------  -----  \n",
      " 0   user       20822 non-null  object \n",
      " 1   name       20822 non-null  object \n",
      " 2   name_list  20822 non-null  object \n",
      " 3   ml         20822 non-null  float16\n",
      " 4   mj         20822 non-null  float16\n",
      " 5   vector     20822 non-null  object \n",
      " 6   mv         20822 non-null  float16\n",
      " 7   mc         20822 non-null  float16\n",
      " 8   m          20822 non-null  float16\n",
      " 9   mark       20822 non-null  float32\n",
      " 10  name1      20822 non-null  object \n",
      " 11  user1      20822 non-null  object \n",
      "dtypes: float16(5), float32(1), object(6)\n",
      "memory usage: 1.2+ MB\n"
     ]
    }
   ],
   "source": [
    "res.info()"
   ]
  },
  {
   "cell_type": "code",
   "execution_count": 22,
   "metadata": {},
   "outputs": [],
   "source": [
    "res.to_excel('matching_nn2.xlsx')"
   ]
  },
  {
   "cell_type": "code",
   "execution_count": 127,
   "metadata": {
    "scrolled": true
   },
   "outputs": [
    {
     "name": "stderr",
     "output_type": "stream",
     "text": [
      "C:\\Users\\EkStepanova\\AppData\\Local\\Continuum\\anaconda3\\lib\\site-packages\\ipykernel_launcher.py:112: SettingWithCopyWarning: \n",
      "A value is trying to be set on a copy of a slice from a DataFrame.\n",
      "Try using .loc[row_indexer,col_indexer] = value instead\n",
      "\n",
      "See the caveats in the documentation: https://pandas.pydata.org/pandas-docs/stable/user_guide/indexing.html#returning-a-view-versus-a-copy\n",
      "C:\\Users\\EkStepanova\\AppData\\Local\\Continuum\\anaconda3\\lib\\site-packages\\ipykernel_launcher.py:114: SettingWithCopyWarning: \n",
      "A value is trying to be set on a copy of a slice from a DataFrame.\n",
      "Try using .loc[row_indexer,col_indexer] = value instead\n",
      "\n",
      "See the caveats in the documentation: https://pandas.pydata.org/pandas-docs/stable/user_guide/indexing.html#returning-a-view-versus-a-copy\n",
      "C:\\Users\\EkStepanova\\AppData\\Local\\Continuum\\anaconda3\\lib\\site-packages\\joblib\\externals\\loky\\process_executor.py:691: UserWarning: A worker stopped while some jobs were given to the executor. This can be caused by a too short worker timeout or by a memory leak.\n",
      "  \"timeout or by a memory leak.\", UserWarning\n"
     ]
    },
    {
     "name": "stdout",
     "output_type": "stream",
     "text": [
      "530.8642802238464 sec\n"
     ]
    }
   ],
   "source": [
    "import time \n",
    "start_time=time.time()\n",
    "\n",
    "res = M.init_matching(13, df_work)\n",
    "\n",
    "print(time.time()-start_time, 'sec')"
   ]
  }
 ],
 "metadata": {
  "kernelspec": {
   "display_name": "Python 3",
   "language": "python",
   "name": "python3"
  },
  "language_info": {
   "codemirror_mode": {
    "name": "ipython",
    "version": 3
   },
   "file_extension": ".py",
   "mimetype": "text/x-python",
   "name": "python",
   "nbconvert_exporter": "python",
   "pygments_lexer": "ipython3",
   "version": "3.7.3"
  }
 },
 "nbformat": 4,
 "nbformat_minor": 4
}
