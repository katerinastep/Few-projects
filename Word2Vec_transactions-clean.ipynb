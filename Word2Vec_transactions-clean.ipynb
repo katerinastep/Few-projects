{
 "cells": [
  {
   "cell_type": "code",
   "execution_count": 7,
   "metadata": {},
   "outputs": [],
   "source": [
    "import pandas as pd\n",
    "import numpy as np\n",
    "import pymssql\n",
    "import warnings\n",
    "warnings.filterwarnings(\"ignore\")\n",
    "from gensim.models import Word2Vec\n",
    "import pickle"
   ]
  },
  {
   "cell_type": "markdown",
   "metadata": {},
   "source": [
    "### Чистим данные от дубликатов и NULL"
   ]
  },
  {
   "cell_type": "code",
   "execution_count": 4,
   "metadata": {},
   "outputs": [],
   "source": [
    "df_visits=df_visits.drop_duplicates(keep='first')\n",
    "df_visits=df_visits.dropna()"
   ]
  },
  {
   "cell_type": "markdown",
   "metadata": {},
   "source": [
    "### Меняем тип переменной product_id на строку"
   ]
  },
  {
   "cell_type": "code",
   "execution_count": 5,
   "metadata": {},
   "outputs": [],
   "source": [
    "df_visits['product_id'] = df_visits['product_id'].astype('int64').astype('str')\n"
   ]
  },
  {
   "cell_type": "markdown",
   "metadata": {},
   "source": [
    "### Делаем таблицу транзакций (списков product_id)"
   ]
  },
  {
   "cell_type": "code",
   "execution_count": 6,
   "metadata": {},
   "outputs": [],
   "source": [
    "transactions=df_visits.groupby(['BonDatum','MEMS_ID', 'GBNr'])['product_id'].apply(list).reset_index(name='transactions')"
   ]
  },
  {
   "cell_type": "markdown",
   "metadata": {},
   "source": [
    "### Чистим транзакции от единичных покупок"
   ]
  },
  {
   "cell_type": "code",
   "execution_count": 7,
   "metadata": {},
   "outputs": [],
   "source": [
    "transactions['len']=transactions['transactions'].apply(len)"
   ]
  },
  {
   "cell_type": "code",
   "execution_count": 8,
   "metadata": {},
   "outputs": [],
   "source": [
    "transactions=transactions.drop(transactions[transactions['len']<2].index)"
   ]
  },
  {
   "cell_type": "markdown",
   "metadata": {},
   "source": [
    "### Выбираем окно для модели "
   ]
  },
  {
   "cell_type": "code",
   "execution_count": 9,
   "metadata": {},
   "outputs": [],
   "source": [
    "window=transactions['len'].quantile(q=0.95, interpolation='nearest')//2"
   ]
  },
  {
   "cell_type": "code",
   "execution_count": null,
   "metadata": {},
   "outputs": [],
   "source": [
    "## Make model, pack, serch substitutes"
   ]
  },
  {
   "cell_type": "markdown",
   "metadata": {},
   "source": [
    "### Делаем список транзакций, который пойдет на вход модели "
   ]
  },
  {
   "cell_type": "code",
   "execution_count": 11,
   "metadata": {},
   "outputs": [],
   "source": [
    "my_list=[]\n",
    "for i in range(len(transactions)):\n",
    "        my_list.append(transactions['transactions'].values[i])"
   ]
  },
  {
   "cell_type": "markdown",
   "metadata": {},
   "source": [
    "### Обучаем и запаковываем модель"
   ]
  },
  {
   "cell_type": "code",
   "execution_count": 12,
   "metadata": {},
   "outputs": [],
   "source": [
    "model_cbow = Word2Vec(my_list,size=300,window=window,min_count=1,workers=8, negative=3)\n",
    "model_cbow.init_sims(replace=True)\n",
    "with open('Woerd2vec_cbow1302.pkl', 'wb') as fid:\n",
    "    pickle.dump(model_cbow, fid)"
   ]
  },
  {
   "cell_type": "markdown",
   "metadata": {},
   "source": [
    "### Распаковка модели"
   ]
  },
  {
   "cell_type": "code",
   "execution_count": 13,
   "metadata": {},
   "outputs": [],
   "source": [
    "best_model = pickle.load(open(\"Woerd2vec_cbow1302.pkl\", \"rb\"))\n"
   ]
  },
  {
   "cell_type": "markdown",
   "metadata": {},
   "source": [
    "### Создаем массив всех уникальных product_id"
   ]
  },
  {
   "cell_type": "code",
   "execution_count": 14,
   "metadata": {},
   "outputs": [],
   "source": [
    "products=df_visits['product_id'].unique() "
   ]
  },
  {
   "cell_type": "markdown",
   "metadata": {},
   "source": [
    "### Записываем заменители для всех products_id в файл '/mnt/cda/subs_1302.csv'"
   ]
  },
  {
   "cell_type": "code",
   "execution_count": 15,
   "metadata": {},
   "outputs": [],
   "source": [
    "\n",
    "df_subs=pd.DataFrame(columns= ['subst_id', 'cos', 'product_id'])\n",
    "df_subs.to_csv('/mnt/cda/subs_1302.csv', encoding='cp1251', sep=';', \n",
    "                    header = ['subst_id', 'cos', 'product_id'])\n",
    "for j in range(len(products)):\n",
    "    if products[j] in best_model.wv.vocab:\n",
    "               result=pd.DataFrame(np.asarray(best_model.most_similar(products[j], topn=50) ), columns=['subst_id', 'cos'])\n",
    "               result['product_id']=products[j]\n",
    "               result.to_csv('/mnt/cda/subs_1302.csv', mode='a', encoding='cp1251', sep=';', \n",
    "                    header = False)\n"
   ]
  },
  {
   "cell_type": "markdown",
   "metadata": {},
   "source": [
    "## Фильтруем заменители на разных товарных уровнях"
   ]
  },
  {
   "cell_type": "markdown",
   "metadata": {},
   "source": [
    "### Загружаем заменители из файла '/mnt/cda/subs_1302.csv'"
   ]
  },
  {
   "cell_type": "code",
   "execution_count": 9,
   "metadata": {},
   "outputs": [],
   "source": [
    "substitutes=pd.read_csv('/mnt/cda/subs_1302.csv', encoding='cp1251', sep=';').drop('Unnamed: 0', axis=1)"
   ]
  },
  {
   "cell_type": "markdown",
   "metadata": {},
   "source": [
    "### Загружаем имена и группы товаров"
   ]
  },
  {
   "cell_type": "code",
   "execution_count": 10,
   "metadata": {},
   "outputs": [],
   "source": [
    "str_sql_query_names=\"\"\"select distinct m.MATNR as product_id,s.Level3_Name,s.Level3_ID, s.Level4_ID,\n",
    "s.product_group_40,s.Name_product_group_40, s.Level4_Name, x.WgRU, x.Wg, x.AEbene, \n",
    "x.AEbeneRU, x.BEbene, x.BEbeneRU,x.OberWGRU, x.OberWG, x.Kategorie, x.KategorieRU,\n",
    "s.product_name from DWH_Globus.[cda_marts].[AGG_PRODUCT_ML] s with (nolock)\n",
    "left join DWH_Globus.rtl_std.MARAGeschichte m with (nolock) on s.product_id=m.MATNR\n",
    "inner join DWH_Globus.rtl_std.WarengruppeHierarchie x with (nolock) on m.MATKL = x.Wg\n",
    "where m.ZeileBisDatum = '29991231' and s.load_dt = '20200201'\"\"\"\n",
    "db = Db()\n",
    "db.create_engine()\n",
    "chunks = []\n",
    "for chunk in pd.read_sql(str_sql_query_names, con=db.engine, chunksize = 10**5):\n",
    "    chunks.append(chunk)\n",
    "df_names= pd.concat(chunks)"
   ]
  },
  {
   "cell_type": "markdown",
   "metadata": {},
   "source": [
    "### Соединяем имена и группы с id товаров"
   ]
  },
  {
   "cell_type": "code",
   "execution_count": 11,
   "metadata": {},
   "outputs": [],
   "source": [
    "df_all=pd.merge(substitutes, df_names, on='product_id', how='left')"
   ]
  },
  {
   "cell_type": "code",
   "execution_count": 12,
   "metadata": {},
   "outputs": [],
   "source": [
    "df_names['Level3_Name_subs']=df_names['Level3_Name']\n",
    "df_names['Level4_Name_subs']=df_names['Level4_Name']\n",
    "df_names['subst_id']=df_names['product_id']\n",
    "df_names['subst_name']=df_names['product_name']\n",
    "df_names['WgRU_subs']=df_names['WgRU']\n",
    "df_names['Level3_ID_subs']=df_names['Level3_ID']\n",
    "df_names['Level4_ID_subs']=df_names['Level4_ID']\n",
    "df_names['product_group_40_subs']=df_names['product_group_40']\n",
    "df_names['Name_product_group_40_subs']=df_names['Name_product_group_40']\n",
    "df_names['Wg_subs']=df_names['Wg']\n",
    "df_names['AEbene_subs']=df_names['AEbene']\n",
    "df_names['AEbeneRU_subs']=df_names['AEbeneRU']\n",
    "df_names['BEbene_subs']=df_names['BEbene']\n",
    "df_names['BEbeneRU_subs']=df_names['BEbeneRU']\n",
    "df_names['OberWGRU_subs']=df_names['OberWGRU']\n",
    "df_names['OberWG_subs']=df_names['OberWG']\n",
    "df_names['Kategorie_subs']=df_names['Kategorie']\n",
    "df_names['KategorieRU_subs']=df_names['KategorieRU']"
   ]
  },
  {
   "cell_type": "code",
   "execution_count": 13,
   "metadata": {},
   "outputs": [],
   "source": [
    "df_all=df_all.merge(df_names[['Level3_Name_subs', 'Level4_Name_subs', 'subst_id', 'subst_name', 'WgRU_subs',\n",
    "       'Level3_ID_subs', 'Level4_ID_subs', 'product_group_40_subs',\n",
    "       'Name_product_group_40_subs', 'Wg_subs', 'AEbene_subs', 'AEbeneRU_subs', 'BEbene_subs',\n",
    "       'BEbeneRU_subs', 'OberWGRU_subs', 'OberWG_subs',\n",
    "       'Kategorie_subs', 'KategorieRU_subs']], on='subst_id', how='left')"
   ]
  },
  {
   "cell_type": "markdown",
   "metadata": {},
   "source": [
    "### Создаем индексы для фильтрации"
   ]
  },
  {
   "cell_type": "code",
   "execution_count": 14,
   "metadata": {},
   "outputs": [],
   "source": [
    "df_all['GRT_ind']=(df_all['Wg'] == df_all['Wg_subs']).astype(int)\n",
    "df_all['Lvl4_ind']=(df_all['Level4_ID_subs']==df_all['Level4_ID']).astype(int)\n",
    "df_all['Lvl3_ind']=(df_all['Level3_ID_subs']==df_all['Level3_ID']).astype(int)\n",
    "df_all['A_ind']=(df_all['AEbene_subs']==df_all['AEbene']).astype(int)\n",
    "df_all['B_ind']=(df_all['BEbene_subs']==df_all['BEbene']).astype(int)\n",
    "df_all['group_ind']=(df_all['product_group_40_subs']==df_all['product_group_40']).astype(int)\n",
    "df_all['Ober_ind']=(df_all['OberWG_subs']==df_all['OberWG']).astype(int)\n",
    "df_all['Kat_ind']=(df_all['Kategorie_subs']==df_all['Kategorie']).astype(int)"
   ]
  },
  {
   "cell_type": "code",
   "execution_count": 15,
   "metadata": {},
   "outputs": [],
   "source": [
    "df_all.to_csv('/mnt/cda/subs_1302_name.csv', encoding='cp1251', sep=';')"
   ]
  },
  {
   "cell_type": "markdown",
   "metadata": {},
   "source": [
    "### Загружаем файл с уровнями фильтрации"
   ]
  },
  {
   "cell_type": "code",
   "execution_count": 16,
   "metadata": {},
   "outputs": [],
   "source": [
    "filtr=pd.read_excel('/mnt/cda/Limits.xlsx')"
   ]
  },
  {
   "cell_type": "markdown",
   "metadata": {},
   "source": [
    "### Соединяем уровни фильтрации с данными заменителей"
   ]
  },
  {
   "cell_type": "code",
   "execution_count": 17,
   "metadata": {},
   "outputs": [],
   "source": [
    "df_filter=pd.merge(df_all, filtr, on='Wg', how='left')"
   ]
  },
  {
   "cell_type": "markdown",
   "metadata": {},
   "source": [
    "### Удаляем ненужные product_id"
   ]
  },
  {
   "cell_type": "code",
   "execution_count": 18,
   "metadata": {},
   "outputs": [],
   "source": [
    "df_filter=df_filter.drop(df_filter[df_filter['Limit1']=='NOT FOUND'].index)\n",
    "df_filter=df_filter.drop(df_filter[(df_filter['Limit1']=='BEbeneRU')&(df_filter['B_ind']==0)].index)\n",
    "df_filter=df_filter.drop(df_filter[(df_filter['Limit1']=='AEbeneRU')&(df_filter['A_ind']==0)].index)\n",
    "df_filter=df_filter.drop(df_filter[(df_filter['Limit1']=='OberWGRU')&(df_filter['Ober_ind']==0)].index)\n",
    "df_filter=df_filter.drop(df_filter[(df_filter['Limit1']=='KategorieRU')&(df_filter['Kat_ind']==0)].index)\n",
    "df_filter=df_filter.drop(df_filter[(df_filter['Limit1']=='L4')&(df_filter['Lvl4_ind']==0)].index)\n",
    "df_filter=df_filter.drop(df_filter[(df_filter['Limit1']=='WG')&(df_filter['GRT_ind']==0)].index)\n",
    "df_filter=df_filter.drop(df_filter[(df_filter['Limit1']=='L3')&(df_filter['Lvl3_ind']==0)].index)"
   ]
  },
  {
   "cell_type": "markdown",
   "metadata": {},
   "source": [
    "### Сохраняем результирующий файл"
   ]
  },
  {
   "cell_type": "code",
   "execution_count": 19,
   "metadata": {},
   "outputs": [],
   "source": [
    "df_filter.to_csv('/mnt/cda/subs_1302_filtr.csv', encoding='cp1251', sep=';')"
   ]
  }
 ],
 "metadata": {
  "kernelspec": {
   "display_name": "Python 3",
   "language": "python",
   "name": "python3"
  },
  "language_info": {
   "codemirror_mode": {
    "name": "ipython",
    "version": 3
   },
   "file_extension": ".py",
   "mimetype": "text/x-python",
   "name": "python",
   "nbconvert_exporter": "python",
   "pygments_lexer": "ipython3",
   "version": "3.7.3"
  }
 },
 "nbformat": 4,
 "nbformat_minor": 2
}
